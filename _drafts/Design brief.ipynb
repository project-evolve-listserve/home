{
 "cells": [
  {
   "cell_type": "markdown",
   "metadata": {},
   "source": [
    "# The Design Brief\n",
    "\n",
    "#### What is a design brief?\n",
    "Design briefs are generally the document that gets a design project started. Let's use a overly simplictic example from a professional setting: Beer company A is losing market share to microbreweries, they need to design a new product. Beer company A writes a design brief outlining their wants and goals for the design team: create a new 'authentic' beer label. From the brief, the design team does research, brainstorms ideas, and designs a new beer label. \n",
    "\n",
    "#### Having a good design brief is *really* important. \n",
    "If it's worth doing, it's worth doing well. Because we're all volunteering our time on this project, I think it's important that we make sure we're working on well defined design briefs that we're absoutly passionate about. \n",
    "\n",
    "In the beer scenario above, there was a key stakeholder that wanted something - the beer company wanted an 'authentic' beer label designed to reclaim a lost market. In ProjectEvovle, we have no key stakeholder, we have no market we're trying to capture - our decision to create something is entirely autonomous, it's natural.  \n",
    "\n",
    "#### Our design briefs\n",
    "*This is a proposal, I'd love your input. If there is no mass objection, I'll send team arrangements and materials on Wednesday Dec 16th.*\n",
    "\n",
    "Because ProjectEvolve is a result of The Listserve, we inherit attributes that give us a certain architecture. This architecture helps suggest some constraints too apply to our design briefs. Consider this fill-in-the-blank, inspired by our collective survey responses:\n",
    "\n",
    "*How might we use the internet and a global community of strangers to ________?*\n",
    "\n",
    "From the survey responses, there seems to be many great, but nascent ideas around the blank. I'd love to explore this futher in groups. To do this, our first exercise in randomly assgined teams (14 teams of 10 people) will be to create design briefs - to define what we want and our goals.\n",
    "\n",
    "Each team will be asked to create TWO 'How might we' statement inspired design briefs. You can simply fill in the blank above, or completely re-write the question to inspire your design brief. This is to be done by Jan 10th. \n",
    "\n",
    "Afterwards, we'll share the design briefs with the entire group, and you will pick which design brief you would like to be a part of. It could be the one you helped create, or another one which really resonates with you. \n",
    "\n",
    "#### Very unscientific findings from my analysis of the surveys:\n",
    "\n",
    "Many people seemed interested in the \"community of strangers\" feature to The Listserve. Top results of a Google search for \"community of strangers\" results in news articles for the \"Human of New York\" project. Someone in our group is also doing a photo project called 100 Strangers: https://www.flickr.com/photos/59949757@N06/albums/72157629139123186 \n",
    "\n",
    "Both The Listserve and Humans of New York are similar in that they are networks for one-to-many interactions. I.e. One person creates content and delivers it to the many viewers (there are differences, The Listserve rotates through people, but you get the gist). \n",
    "\n",
    "It seems many people are wondering why The Listserve hasn't grown. First, it's probably important to consider that The Listserve was not designed for growth. It is figuratevly, like a pebble dropped in a lake, it creates ripples, but what do those ripples create? \n",
    "\n",
    "I could be interpretating the surveys incorrectly, but it seems that this group wants to design for growth. Like an organism that grows and adapts to its surrroundings through evolutions. But how? For this, consider all the potential ways you could redesign the ways a network communicates. What if the frequency was once a week? What if you had a month to write, rather than 48 hours, would we get better contnet? What if Mondays were reserved for people in North American, and Tuesdays were for people from Europe? Would that result in a more diverse population? What if it wasn't a mass email at all and instead you get paired at random with a group of 6 strangers? There are limitless combinations. \n",
    "\n",
    "What would those networks look like? Would they grow? Would the contnet be any better? Which one would connect people better? Which one would help me learn more about other cultures?\n",
    "\n",
    "Would one would achieve what we *want* it to achieve?\n",
    "\n",
    "#### Some semi-related materials I found interesting are:\n",
    "Wikipedia on Social Network Analysis: https://en.wikipedia.org/wiki/Social_network_analysis\n",
    "Wikipedia on the Uses and Gratificatins Theoy (why people consume certian types of media): https://en.wikipedia.org/wiki/Uses_and_gratifications_theory\n",
    "Why good design briefs are important: http://www.huffingtonpost.com/soren-petersen/design-briefs-quality-dri_b_5473805.html\n",
    "\n"
   ]
  },
  {
   "cell_type": "code",
   "execution_count": null,
   "metadata": {
    "collapsed": true
   },
   "outputs": [],
   "source": []
  }
 ],
 "metadata": {
  "kernelspec": {
   "display_name": "Python 3",
   "language": "python",
   "name": "python3"
  },
  "language_info": {
   "codemirror_mode": {
    "name": "ipython",
    "version": 3
   },
   "file_extension": ".py",
   "mimetype": "text/x-python",
   "name": "python",
   "nbconvert_exporter": "python",
   "pygments_lexer": "ipython3",
   "version": "3.5.0"
  }
 },
 "nbformat": 4,
 "nbformat_minor": 0
}
